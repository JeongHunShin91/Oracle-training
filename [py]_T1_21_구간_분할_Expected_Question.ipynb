{
  "nbformat": 4,
  "nbformat_minor": 0,
  "metadata": {
    "colab": {
      "provenance": [],
      "authorship_tag": "ABX9TyN+/tJAc/BnkHehSGuPw6y6",
      "include_colab_link": true
    },
    "kernelspec": {
      "name": "python3",
      "display_name": "Python 3"
    },
    "language_info": {
      "name": "python"
    }
  },
  "cells": [
    {
      "cell_type": "markdown",
      "metadata": {
        "id": "view-in-github",
        "colab_type": "text"
      },
      "source": [
        "<a href=\"https://colab.research.google.com/github/JeongHunShin91/Oracle-training/blob/main/%5Bpy%5D_T1_21_%EA%B5%AC%EA%B0%84_%EB%B6%84%ED%95%A0_Expected_Question.ipynb\" target=\"_parent\"><img src=\"https://colab.research.google.com/assets/colab-badge.svg\" alt=\"Open In Colab\"/></a>"
      ]
    },
    {
      "cell_type": "code",
      "execution_count": null,
      "metadata": {
        "id": "aK-FZfxSWiZ9"
      },
      "outputs": [],
      "source": [
        "나이 구간 나누기¶\n",
        "basic1 데이터 중 'age'컬럼 이상치를 제거하고, 동일한 개수로 나이 순으로 3그룹으로 나눈 뒤 각 그룹의 중앙값을 더하시오\n",
        "(이상치는 음수(0포함), 소수점 값)\n",
        "data: basic1.csv"
      ]
    },
    {
      "cell_type": "code",
      "source": [
        "import pandas as pd\n",
        "df = pd.read_csv('../input/bigdatacertificationkr/basic1.csv')\n",
        "df[\"age\"].describe()\n",
        "dfage = df[(df[\"age\"]>0) &(df[\"age\"]==round(df[\"age\"],0))]\n",
        "dfage = dfage.sort_values(by = \"age\",ascending=False)\n",
        "dfage[\"age1\"] = pd.qcut(dfage[\"age\"],3,labels=[1,2,3])\n",
        "dfage.groupby(\"age1\")[\"age\"].median().sum()"
      ],
      "metadata": {
        "id": "Yjd0YKzd0qnA"
      },
      "execution_count": null,
      "outputs": []
    }
  ]
}