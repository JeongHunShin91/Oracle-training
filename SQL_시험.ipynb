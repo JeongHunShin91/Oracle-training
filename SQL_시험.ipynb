{
  "nbformat": 4,
  "nbformat_minor": 0,
  "metadata": {
    "colab": {
      "provenance": [],
      "authorship_tag": "ABX9TyMEBbCKRMMXG5H/g6zBZhld",
      "include_colab_link": true
    },
    "kernelspec": {
      "name": "python3",
      "display_name": "Python 3"
    },
    "language_info": {
      "name": "python"
    }
  },
  "cells": [
    {
      "cell_type": "markdown",
      "metadata": {
        "id": "view-in-github",
        "colab_type": "text"
      },
      "source": [
        "<a href=\"https://colab.research.google.com/github/JungHunShin/programmers_level1_Oracle/blob/main/SQL_%EC%8B%9C%ED%97%98.ipynb\" target=\"_parent\"><img src=\"https://colab.research.google.com/assets/colab-badge.svg\" alt=\"Open In Colab\"/></a>"
      ]
    },
    {
      "cell_type": "code",
      "execution_count": null,
      "metadata": {
        "id": "iQbWdiEMOIdR"
      },
      "outputs": [],
      "source": [
        "--SJH\n",
        "--[문항1]  ※ Open book, open note\n",
        "--※ 대면/비대면 응시자는 카페 내 ‘평가답안제출’ 게시판에 sql code 업로드\n",
        "--※ sql code안에 본인의 성명을 기입\n",
        "--※ sql 파일명에 본인의 영문이니셜을 추가\n",
        "--다음 정보를 이용하여 테이블을 생성하고, 아래 문제를 실행하시오.\n",
        "create table GoodsInfo(\n",
        "상품코드 char(6),\n",
        "상품명 varchar2(30) not null,\n",
        "가격 number(8) not null,\n",
        "제조사 varchar2(25) not null\n",
        ");\n",
        "\n",
        "drop table GoodsInfo;\n",
        "\n",
        "COMMENT ON table GoodsInfo IS '테이블명';\n",
        "COMMENT ON COLUMN GoodsInfo.상품코드 IS 'proCode';\n",
        "COMMENT ON COLUMN GoodsInfo.상품명 IS 'proName';\n",
        "COMMENT ON COLUMN GoodsInfo.가격 IS 'price';\n",
        "COMMENT ON COLUMN GoodsInfo.제조사 IS 'maker';\n",
        "INSERT INTO GoodsInfo VALUES(1001, '냉장고', 1800000, 'SM');\n",
        "INSERT INTO GoodsInfo VALUES(1002, '세탁기', 550000, 'LN');\n",
        "INSERT INTO GoodsInfo VALUES(1003, 'HDTV', 280000, 'HP');\n",
        "INSERT INTO GoodsInfo VALUES(1004, '전자레인지', 230000, 'SM');\n",
        "INSERT INTO GoodsInfo VALUES(1005, '오디오', 770000, 'LN');\n",
        "INSERT INTO GoodsInfo VALUES(1006, 'PC', 880000, 'HP');\n",
        "\n",
        "--1. 다음의 두줄을 주석문 처리하시오.\n",
        "--데이터베이스 요구사항 분석\n",
        "--신정훈\n",
        "\n",
        "--[문항2]  2. 상품정보(GoodsInfo)테이블 생성하시오.(SQLPLUS 또는 SQL Developer이용)\n",
        "create table GoodsInfo(\n",
        "상품코드 char(5),\n",
        "상품명 varchar2(30) not null,\n",
        "가격 number(8) not null,\n",
        "제조사 varchar2(25) not null\n",
        ");\n",
        "\n",
        "--[문항3]  3. 생성된 GoodsInfo테이블에 레코드를 추가하시오.\n",
        "INSERT INTO GoodsInfo VALUES(1001, '냉장고', 1800000, 'SM');\n",
        "INSERT INTO GoodsInfo VALUES(1002, '세탁기', 550000, 'LN');\n",
        "INSERT INTO GoodsInfo VALUES(1003, 'HDTV', 280000, 'HP');\n",
        "INSERT INTO GoodsInfo VALUES(1004, '전자레인지', 230000, 'SM');\n",
        "INSERT INTO GoodsInfo VALUES(1005, '오디오', 770000, 'LN');\n",
        "INSERT INTO GoodsInfo VALUES(1006, 'PC', 880000, 'HP');\n",
        "select * from GoodsInfo;\n",
        "\n",
        "--[문항4]  4. 전체 레코드를 검색하시오.\n",
        "select * from GoodsInfo;\n",
        "\n",
        "--[문항5]  5. GoodsInfo테이블의 구조를 확인하시오.\n",
        "desc GoodsInfo;\n",
        "\n",
        "--[문항6]  6. 상품정보(GoodsInfo)테이블에서 모든 상품의 가격 합을 구하시오.\n",
        "select sum(가격)\n",
        "from GoodsInfo;\n",
        "\n",
        "--[문항7]  7. GoodsInfo테이블에 할인가(salePrice) 컬럼을 추가하시오\n",
        "alter table GoodsInfo add 할인가 number(8);\n",
        "COMMENT ON COLUMN GoodsInfo.할인가 IS 'salePrice';\n",
        "\n",
        "--[문항8]  8. GoodsInfo테이블에서 가격이 70만원 이상인 상품만 조회하여 상품명과 가격만 display하시오\n",
        "select 상품명, 가격\n",
        "from GoodsInfo\n",
        "where 가격 >= 700000;\n",
        "\t\n",
        "--[문항9]  9. GoodsInfo테이블에서 상품코드가 1002와 1003를 제외한 상품의 상품명과 가격을 display하시오.\n",
        "select 상품명, 가격\n",
        "from GoodsInfo\n",
        "where 상품코드 not in ('1002','1003');\n",
        "\n",
        "--[문항10]  10. GoodsInfo테이블에서 상품명이 PC인 상품의 정보를 조회하시오.\n",
        "select *\n",
        "from GoodsInfo\n",
        "where 상품명 like '%PC%';"
      ]
    }
  ]
}