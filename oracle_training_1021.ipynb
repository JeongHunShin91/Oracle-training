{
  "nbformat": 4,
  "nbformat_minor": 0,
  "metadata": {
    "colab": {
      "provenance": [],
      "authorship_tag": "ABX9TyOv2hFEY2bQIyB0b61Qe7BB",
      "include_colab_link": true
    },
    "kernelspec": {
      "name": "python3",
      "display_name": "Python 3"
    },
    "language_info": {
      "name": "python"
    }
  },
  "cells": [
    {
      "cell_type": "markdown",
      "metadata": {
        "id": "view-in-github",
        "colab_type": "text"
      },
      "source": [
        "<a href=\"https://colab.research.google.com/github/JungHunShin/Oracle-training/blob/main/oracle_training_1021.ipynb\" target=\"_parent\"><img src=\"https://colab.research.google.com/assets/colab-badge.svg\" alt=\"Open In Colab\"/></a>"
      ]
    },
    {
      "cell_type": "code",
      "execution_count": null,
      "metadata": {
        "id": "-3v0ghuvj23I"
      },
      "outputs": [],
      "source": [
        "--[문항1]  ※ Open book, open note\n",
        "--※ 대면/비대면 응시자는 카페 내 ‘평가답안제출’ 게시판에 sql code 업로드\n",
        "--※ sql code안에 본인의 성명을 기입\n",
        "--※ sql 파일명에 본인의 영문이니셜을 추가\n",
        "\n",
        "--■ scott.sql을 실행하여 생성한 EMP테이블과 DEPT테이블을 대상으로 아래 문제를 실행하시오.\n",
        "\n",
        "--1. 다음의 두줄을 주석문 처리하시오.\n",
        "--SQL 활용\n",
        "--(본인 이름)\n",
        "--신정훈\n",
        "\n",
        "--[문항2]  2. EMP테이블에서 급여를 기준으로 내림차순으로 사원 정보를 조회하여 정렬하고 급여가 같으면 다시 이름기준으로 내림차순으로 조회하시오.\n",
        "select *\n",
        "from emp\n",
        "order by sal, ename desc;\n",
        "\n",
        "\n",
        "--[문항3]  3. DEPT테이블의 다음 새로운 부서 정보를 저장하고 전체 레코드를 검색하시오.\n",
        "--부서정보:\n",
        "--DEPTNO: 50\n",
        "--DNAME: Planning\n",
        "--LOC: Seoul.\n",
        "insert into dept(deptno, dname, loc) \n",
        "values(50,'Plaining','Seoul');\n",
        "select *from dept;\n",
        "\n",
        "--[문항4]  4. EMP테이블에서 부서번호로 그룹화하여 월급의 최고액과 최저액을 받는 사원의 정보를 조회하시오\n",
        "select deptno,max(sal), min(sal)\n",
        "from emp group by deptno;\n",
        "\n",
        "--[문항5]  5. EMP테이블에서 부서번호로 그룹화하고 급여가 3800이상인 사원번호와 급여를 조회하시오.\n",
        "select empno, sal from emp\n",
        "where sal>=3800;\n",
        "\n",
        "--[문항6]  6. EMP테이블과 DEPT테이블을 조인시켜 사원의 사원번호, 사원명, 부서번호, 부서명을 조회하시오.\n",
        "select emp.empno, emp.ename,dept.deptno,dept.dname\n",
        "from emp, dept\n",
        "where emp.deptno = dept.deptno;\n",
        "\n",
        "--[문항7]  7. 단일행 서브쿼리를 이용하여 EMP테이블에서 SMITH의 부서명을 호출하여 조회하시오.\n",
        "select dname\n",
        "from dept\n",
        "where deptno = (select deptno from emp where ename ='SMITH');\n",
        "\n",
        "--[문항8]  8. 단일행 서브쿼리를 이용하여 EMP테이블에서 사원번호가 7654인 사원의 급여보다 급여가 적은 사원의 사원번호, 사원명, 직급, 급여 순으로 조회하시오.\n",
        "select *\n",
        "from emp\n",
        "where sal < (select sal from emp where empno =7654)\n",
        "order by empno, ename, job, sal;\n",
        "\n",
        "--[문항9]  9. 단일행 서브쿼리에 그룹함수를 사용하여 EMP테이블에서 부서번호가 20인 부서의 최소 급여보다 많은 부서를 조회하시오.\n",
        "select dept.dname, min(emp.sal)\n",
        "from dept, emp where dept.deptno = emp.deptno group by dept.dname, emp.deptno\n",
        "having min(sal) > (select min(sal) from emp group by deptno having deptno = 20 );\n",
        "\n",
        "--[문항10]  10. 다중행 서브쿼리를 이용하여 EMP테이블에서 부서번호 30에 소속된 사원 중 최고 급여보다 많은 급여를 받는 사원을 조회하시오\n",
        "select *\n",
        "from emp\n",
        "where (deptno, sal) in (select deptno,max(sal) from emp where deptno = 30 group by deptno);"
      ]
    },
    {
      "cell_type": "code",
      "source": [],
      "metadata": {
        "id": "Liy-bUPTmhv9"
      },
      "execution_count": null,
      "outputs": []
    }
  ]
}