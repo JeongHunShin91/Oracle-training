{
  "nbformat": 4,
  "nbformat_minor": 0,
  "metadata": {
    "colab": {
      "provenance": [],
      "authorship_tag": "ABX9TyNO8qYbvu7z0AzqB4QDzdYh",
      "include_colab_link": true
    },
    "kernelspec": {
      "name": "python3",
      "display_name": "Python 3"
    },
    "language_info": {
      "name": "python"
    }
  },
  "cells": [
    {
      "cell_type": "markdown",
      "metadata": {
        "id": "view-in-github",
        "colab_type": "text"
      },
      "source": [
        "<a href=\"https://colab.research.google.com/github/JungHunShin/Oracle-training/blob/main/SQL_training_1025.ipynb\" target=\"_parent\"><img src=\"https://colab.research.google.com/assets/colab-badge.svg\" alt=\"Open In Colab\"/></a>"
      ]
    },
    {
      "cell_type": "code",
      "execution_count": null,
      "metadata": {
        "id": "MmHJuqCEHGxJ"
      },
      "outputs": [],
      "source": [
        "--[문항1]  ※ Open book, open note\n",
        "--※ 대면/비대면 응시자는 카페 내 ‘평가답안제출’ 게시판에 sql code 업로드\n",
        "--※ sql code안에 본인의 성명을 기입\n",
        "--※ sql 파일명에 본인의 영문이니셜을 추가\n",
        "\n",
        "--■ PL/SQL을 이용하여 아래 문제를 SQL code로 작성하여 제출하시오.\n",
        "\n",
        "--1. 다음의 메시지를 출력하시오.\n",
        "--(배점: 10점, 난이도: 2)\n",
        "--SQL 응용\n",
        "--(본인이름)\n",
        "SET SERVEROUTPUT ON;\n",
        "BEGIN\n",
        "DBMS_OUTPUT.PUT_LINE('신정훈');\n",
        "END;\n",
        "/\n",
        "--[문항2]  2. PL/SQL의 SELECT문으로 EMP데이블에서 TURNER의 사원번호, 이름, 부서번호를 조회하시오. (배점: 20점, 난이도: 3)\n",
        "SET SERVEROUTPUT ON;\n",
        "DECLARE\n",
        "    sonno emp.empno%TYPE;\n",
        "    sonname emp.ename%TYPE;\n",
        "    sondeptno emp.deptno%TYPE;\n",
        "BEGIN\n",
        "    SELECT empno, ename, deptno into sonno, sonname, sondeptno\n",
        "    FROM emp\n",
        "    WHERE ename = 'TURNER';\n",
        "    DBMS_OUTPUT.PUT_LINE(' 사번 이름 부서번호');\n",
        "    DBMS_OUTPUT.PUT_LINE('---------------');\n",
        "    DBMS_OUTPUT.PUT_LINE(''|| sonno ||' '|| sonname||' '||sondeptno);\n",
        "END;\n",
        "/\n",
        "--[문항3]  3. PL/SQL의 다중 if..then..elsif..else문을 이용하여 TURNER의 사원번호, 이름, 부서번호, 부서명을 조회하시오. (배점: 20점, 난이도: 3)\n",
        "SET SERVEROUTPUT ON;\n",
        "DECLARE\n",
        "    sonemp emp%rowtype;\n",
        "    sondname VARCHAR2(12);\n",
        "BEGIN\n",
        "    SELECT * INTO sonemp\n",
        "    FROM emp\n",
        "    where ename='TURNER';\n",
        "    IF (sonemp.deptno = 10) THEN\n",
        "        sondname := 'accounting';\n",
        "    ELSIF (sonemp.deptno = 20) THEN\n",
        "        sondname := 'research';\n",
        "    ELSE\n",
        "        sondname := 'sales';\n",
        "    END IF;\n",
        "    DBMS_OUTPUT.PUT_LINE(' 사번 이름 부서번호 부서명');\n",
        "    DBMS_OUTPUT.PUT_LINE('---------------------------');\n",
        "    DBMS_OUTPUT.PUT_LINE(''||sonemp.empno||' '||sonemp.ename||' '||sonemp.deptno||' '||sondname);\n",
        "END;\n",
        "/\n",
        "--[문항4]  4. PL/SQL의 WHILE문을 사용하여 1부터 200까지 합을 구하는 PL/SQL 문을 coding하시오. (배점: 50점, 난이도: 4\n",
        "SET SERVEROUTPUT ON;\n",
        "DECLARE\n",
        "    num NUMBER := 1;\n",
        "    numsum NUMBER := 0;\n",
        "BEGIN\n",
        "    WHILE (num <= 200) LOOP\n",
        "        numsum := numsum + num;\n",
        "        num := num + 1;\n",
        "    END LOOP;\n",
        "    DBMS_OUTPUT.PUT_LINE(numsum);\n",
        "END;\n",
        "/\n"
      ]
    }
  ]
}